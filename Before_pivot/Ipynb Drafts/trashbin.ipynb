{
 "cells": [
  {
   "cell_type": "code",
   "execution_count": null,
   "metadata": {},
   "outputs": [],
   "source": [
    "def extract_caption_pairs(pdf_paths, caption_save_path):\n",
    "    results = [] \n",
    "\n",
    "    for file_index, pdf_path in enumerate(pdf_paths):\n",
    "        doc = fitz.open(pdf_path)\n",
    "        img_index = 1\n",
    "\n",
    "        for page_num in range(len(doc)):\n",
    "            page = doc.load_page(page_num)\n",
    "            blocks = page.get_text(\"blocks\")\n",
    "\n",
    "            text_blocks = [\n",
    "                b for b in blocks\n",
    "                if b[6] == 0 and b[4].strip() != ''\n",
    "            ]\n",
    "\n",
    "            for i, block in enumerate(text_blocks):\n",
    "                block_text = block[4]\n",
    "\n",
    "                if re.search(r'Figure\\s*\\d+', block_text, re.IGNORECASE):\n",
    "                    prev_block_text = None\n",
    "\n",
    "                    j = i - 1\n",
    "                    while j >= 0:\n",
    "                        candidate_text = text_blocks[j][4].strip()\n",
    "                        if candidate_text:\n",
    "                            prev_block_text = candidate_text\n",
    "                            break\n",
    "                        j -= 1\n",
    "\n",
    "                    caption_text = prev_block_text.replace(\"\\n\", \"\") if prev_block_text else \"\"\n",
    "\n",
    "                    results.append({\n",
    "                        \"Figure_Path\": f\"File{file_index}_Figure{img_index}\",\n",
    "                        \"Caption\": caption_text\n",
    "                    })\n",
    "\n",
    "                    img_index += 1\n",
    "\n",
    "    with open(caption_save_path, 'w', encoding='utf-8') as json_file:\n",
    "        json.dump(results, json_file, indent=4, ensure_ascii=False)"
   ]
  },
  {
   "cell_type": "code",
   "execution_count": null,
   "metadata": {},
   "outputs": [],
   "source": [
    "def chunk_text(text, chunk_size=chunk_size, chunk_overlap=chunk_overlap):\n",
    "    text_splitter = SentenceSplitter(\n",
    "        chunk_size=chunk_size,\n",
    "        chunk_overlap=chunk_overlap,\n",
    "    )\n",
    "    chunks = text_splitter.split_text(text)\n",
    "    print(f\"Total text chunks created: {len(chunks)}\")\n",
    "    return chunks\n",
    "\n",
    "pdf_chunks = chunk_text(pdf_text)"
   ]
  },
  {
   "cell_type": "code",
   "execution_count": null,
   "metadata": {},
   "outputs": [],
   "source": []
  }
 ],
 "metadata": {
  "language_info": {
   "name": "python"
  }
 },
 "nbformat": 4,
 "nbformat_minor": 2
}
