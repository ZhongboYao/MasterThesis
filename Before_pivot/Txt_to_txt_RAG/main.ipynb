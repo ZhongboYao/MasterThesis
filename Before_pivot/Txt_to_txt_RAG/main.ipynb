{
 "cells": [
  {
   "cell_type": "code",
   "execution_count": 1,
   "metadata": {},
   "outputs": [
    {
     "name": "stderr",
     "output_type": "stream",
     "text": [
      "/Users/lucachangretta/opt/anaconda3/envs/Thesis/lib/python3.11/site-packages/tqdm/auto.py:21: TqdmWarning: IProgress not found. Please update jupyter and ipywidgets. See https://ipywidgets.readthedocs.io/en/stable/user_install.html\n",
      "  from .autonotebook import tqdm as notebook_tqdm\n"
     ]
    }
   ],
   "source": [
    "import pdf\n",
    "import util\n",
    "import os\n",
    "import chunking\n",
    "import vector_store as vs\n",
    "from tqdm import tqdm\n",
    "from langchain_qdrant import FastEmbedSparse\n",
    "from langchain_openai import OpenAIEmbeddings\n",
    "import api\n",
    "import retrieval\n",
    "import chatbot\n",
    "import re\n",
    "from IPython.display import Image, display\n",
    "import evaluation as eval\n",
    "import json"
   ]
  },
  {
   "cell_type": "code",
   "execution_count": 2,
   "metadata": {},
   "outputs": [],
   "source": [
    "os.environ[\"TOKENIZERS_PARALLELISM\"] = \"false\"\n",
    "\n",
    "pdf_paths = [\"Dataset/File1_manual.pdf\", \"Dataset/File2_manual.pdf\", \"Dataset/File3_manual.pdf\", \"Dataset/File4_manual.pdf\"]\n",
    "query_path = \"query.txt\"\n",
    "\n",
    "individual_pages_folder = 'manual_individual_pages'\n",
    "all_contents_folder = 'manual_all_contents'\n",
    "\n",
    "text_collection_name = 'manual_texts_no_diff'\n",
    "caption_collection_name = 'manual_captions_no_diff'"
   ]
  },
  {
   "cell_type": "markdown",
   "metadata": {},
   "source": [
    "# Extract Content"
   ]
  },
  {
   "cell_type": "code",
   "execution_count": 3,
   "metadata": {},
   "outputs": [
    {
     "name": "stdout",
     "output_type": "stream",
     "text": [
      "manual_individual_pages is cleared!\n",
      "manual_individual_pages is ready for new content.\n",
      "manual_all_contents is cleared!\n",
      "manual_all_contents is ready for new content.\n"
     ]
    },
    {
     "name": "stderr",
     "output_type": "stream",
     "text": [
      "Processing pages of file Dataset/File1_manual.pdf: 100%|██████████| 2/2 [00:00<00:00, 57.47it/s]\n"
     ]
    },
    {
     "name": "stdout",
     "output_type": "stream",
     "text": [
      "Saved content to manual_all_contents/File1_manual/Images_info.json\n"
     ]
    },
    {
     "name": "stderr",
     "output_type": "stream",
     "text": [
      "Processing pages of file Dataset/File2_manual.pdf: 100%|██████████| 16/16 [00:00<00:00, 198.89it/s]\n"
     ]
    },
    {
     "name": "stdout",
     "output_type": "stream",
     "text": [
      "Saved content to manual_all_contents/File2_manual/Images_info.json\n"
     ]
    },
    {
     "name": "stderr",
     "output_type": "stream",
     "text": [
      "Processing pages of file Dataset/File3_manual.pdf: 100%|██████████| 59/59 [00:00<00:00, 233.06it/s]\n"
     ]
    },
    {
     "name": "stdout",
     "output_type": "stream",
     "text": [
      "Saved content to manual_all_contents/File3_manual/Images_info.json\n"
     ]
    },
    {
     "name": "stderr",
     "output_type": "stream",
     "text": [
      "Processing pages of file Dataset/File4_manual.pdf: 100%|██████████| 23/23 [00:00<00:00, 218.00it/s]\n"
     ]
    },
    {
     "name": "stdout",
     "output_type": "stream",
     "text": [
      "Saved content to manual_all_contents/File4_manual/Images_info.json\n"
     ]
    }
   ],
   "source": [
    "util.clear_folder(individual_pages_folder)\n",
    "util.clear_folder(all_contents_folder)\n",
    "\n",
    "for pdf_path in pdf_paths:\n",
    "    file = pdf.PDF(pdf_path)\n",
    "    file.extract_pages()\n",
    "    all_texts = file.combine_pages_txt()\n",
    "\n",
    "    # Extract single pages\n",
    "    image_save_dir = f\"{all_contents_folder}/{file.name}/Images\"\n",
    "    os.makedirs(image_save_dir, exist_ok=True)\n",
    "    for page in file.pages:\n",
    "        page_text_save_dir = f\"{individual_pages_folder}/{file.name}\"\n",
    "        os.makedirs(page_text_save_dir, exist_ok=True)\n",
    "        util.save_text_to_file(page.text, f\"{page_text_save_dir}/Page{page.page_num+1}.txt\")\n",
    "        for image in page.images:\n",
    "            image_save_path = f\"{image_save_dir}/Page{image.parent_page_num+1}_Figure{image.index+1}.{image.ext}\"\n",
    "            image.save(image_save_path)\n",
    "            image.path = image_save_path\n",
    "\n",
    "    # Save combined texts\n",
    "    all_texts_save_dir = f\"{all_contents_folder}/{file.name}\"\n",
    "    os.makedirs(all_texts_save_dir , exist_ok=True)\n",
    "    util.save_text_to_file(all_texts, f\"{all_texts_save_dir}/{file.name}.txt\")\n",
    "\n",
    "    # Save all the images info\n",
    "    images_info_save_dir = f\"{all_contents_folder}/{file.name}\"\n",
    "    os.makedirs(images_info_save_dir, exist_ok=True)\n",
    "    file.save_images_info(f\"{images_info_save_dir}/Images_info.json\")\n"
   ]
  },
  {
   "cell_type": "markdown",
   "metadata": {},
   "source": [
    "# Pair Captions"
   ]
  },
  {
   "cell_type": "code",
   "execution_count": 4,
   "metadata": {},
   "outputs": [
    {
     "name": "stdout",
     "output_type": "stream",
     "text": [
      "Saved content to manual_all_contents/File1_manual/Images_info.json\n",
      "Saved content to manual_all_contents/File2_manual/Images_info.json\n",
      "Saved content to manual_all_contents/File3_manual/Images_info.json\n",
      "Saved content to manual_all_contents/File4_manual/Images_info.json\n"
     ]
    }
   ],
   "source": [
    "for pdf_path in pdf_paths:\n",
    "    file = pdf.PDF(pdf_path)\n",
    "    file.images = util.create_class_from_json(pdf.Image, f\"{all_contents_folder}/{file.name}/Images_info.json\")\n",
    "    for image in file.images:\n",
    "        txt_path = f\"{individual_pages_folder}/{file.name}/Page{image.parent_page_num+1}.txt\"\n",
    "        image.pair_caption(txt_path)\n",
    "\n",
    "    images_info_save_dir = f\"{all_contents_folder}/{file.name}\"\n",
    "    os.makedirs(images_info_save_dir, exist_ok=True)\n",
    "    file.save_images_info(f\"{images_info_save_dir}/Images_info.json\")"
   ]
  },
  {
   "cell_type": "markdown",
   "metadata": {},
   "source": [
    "# Generate & Save Embeddings"
   ]
  },
  {
   "cell_type": "code",
   "execution_count": 5,
   "metadata": {},
   "outputs": [
    {
     "name": "stdout",
     "output_type": "stream",
     "text": [
      "Deleted old version collection manual_texts_no_diff\n",
      "Collection manual_texts_no_diff initialized.\n",
      "Deleted old version collection manual_captions_no_diff\n",
      "Collection manual_captions_no_diff initialized.\n"
     ]
    },
    {
     "name": "stderr",
     "output_type": "stream",
     "text": [
      "Adding text cunks to the vectore store.: 100%|██████████| 100/100 [02:58<00:00,  1.79s/it]\n",
      "Adding captions to the vectore store.: 100%|██████████| 97/97 [02:39<00:00,  1.64s/it]\n"
     ]
    }
   ],
   "source": [
    "chunks = []\n",
    "images = []\n",
    "\n",
    "for pdf_path in pdf_paths:\n",
    "    file = pdf.PDF(pdf_path)\n",
    "    file.images = util.create_class_from_json(pdf.Image, f\"{all_contents_folder}/{file.name}/Images_info.json\")\n",
    "    \n",
    "    chunk_with_paths = chunking.single_page_chunk(f\"{individual_pages_folder}/{file.name}\")\n",
    "    for item in chunk_with_paths:\n",
    "        chunks.append(chunking.Chunk(item[0], item[1]))\n",
    "\n",
    "    for image in file.images:\n",
    "        images.append(image)\n",
    "\n",
    "vs.create_collection(text_collection_name, 1536)\n",
    "vs.create_collection(caption_collection_name, 1536)\n",
    "\n",
    "for chunk in tqdm(chunks, desc=\"Adding text cunks to the vectore store.\"):\n",
    "    vs.add_txt(text_collection_name, chunk)\n",
    "for image in tqdm(images, desc=\"Adding captions to the vectore store.\"):\n",
    "    vs.add_image(caption_collection_name, image)"
   ]
  },
  {
   "cell_type": "markdown",
   "metadata": {},
   "source": [
    "# Respond to a Query"
   ]
  },
  {
   "cell_type": "code",
   "execution_count": 6,
   "metadata": {},
   "outputs": [],
   "source": [
    "def respond(\n",
    "        query, \n",
    "        text_collection_name, \n",
    "        caption_collection_name, \n",
    "        txt_similarity_topk, \n",
    "        image_similarity_topk, \n",
    "        verbose=1):\n",
    "    \n",
    "    dense_embedding_function = OpenAIEmbeddings(api_key=api.OPENAI_KEY, model=\"text-embedding-3-small\")\n",
    "    sparse_embedding_function = FastEmbedSparse(model_name=\"prithivida/Splade_PP_en_v1\")\n",
    "    \n",
    "    collection_text = vs.get_collection(\n",
    "        text_collection_name, \n",
    "        dense_embedding_function,\n",
    "        sparse_embedding_function\n",
    "    )\n",
    "\n",
    "    collection_caption = vs.get_collection(\n",
    "        caption_collection_name, \n",
    "        dense_embedding_function,\n",
    "        sparse_embedding_function\n",
    "    )\n",
    "\n",
    "    text_retriever = retrieval.Retriever(query, collection_text)\n",
    "    text_retriever.similarity_search(txt_similarity_topk)\n",
    "\n",
    "    context = \" \"\n",
    "    context_indices = []\n",
    "    for doc in text_retriever.found_docs:\n",
    "        payload = vs.retrieve_payload(doc, collection_text)\n",
    "        context += payload.get('content', \"\")\n",
    "        context_indices.append(payload.get('index'))\n",
    "\n",
    "    response = chatbot.disease_list_prediction(query, context)\n",
    "    pattern = r'(Disease name \\d+:\\s*.*?)(?=Disease name \\d+:|$)'\n",
    "    predictions = re.findall(pattern, response, flags=re.DOTALL)\n",
    "\n",
    "    image_paths = []\n",
    "    for prediction in predictions:\n",
    "        image_retriever = retrieval.Retriever(prediction, collection_caption)\n",
    "        image_retriever.similarity_search(image_similarity_topk)\n",
    "        retrieved_image = image_retriever.found_docs[0]\n",
    "        image_payload = vs.retrieve_payload(retrieved_image, collection_caption)\n",
    "        image_path = image_payload[\"path\"]\n",
    "        image_paths.append(image_path)\n",
    "        if verbose:\n",
    "            print(prediction)\n",
    "            display(Image(filename=image_path))\n",
    "\n",
    "    return predictions, image_paths, context, context_indices"
   ]
  },
  {
   "cell_type": "code",
   "execution_count": 7,
   "metadata": {},
   "outputs": [
    {
     "name": "stdout",
     "output_type": "stream",
     "text": [
      "Disease name 1: Periapical granuloma\n",
      "Disease 1 description: Small round or oval radiolucency surrounding the apex of a non-vital tooth, with chronic inflammatory cells, endothelial cells, capillaries, and macrophages. Can show signs of tooth displacement, impaction, and root resorption.\n",
      "\n",
      "\n"
     ]
    },
    {
     "data": {
      "image/jpeg": "[encoded data removed]",
      "text/plain": [
       "<IPython.core.display.Image object>"
      ]
     },
     "metadata": {},
     "output_type": "display_data"
    },
    {
     "name": "stdout",
     "output_type": "stream",
     "text": [
      "Disease name 2: Radicular cyst\n",
      "Disease 2 description: A lesion with well-circumscribed borders that develop from the epithelial cell rests of Malassez. Can present as a radiolucency at the apex of a non-vital tooth, leading to root resorption and displacement of adjacent teeth.\n",
      "\n",
      "\n"
     ]
    },
    {
     "data": {
      "image/jpeg": "[encoded data removed]",
      "text/plain": [
       "<IPython.core.display.Image object>"
      ]
     },
     "metadata": {},
     "output_type": "display_data"
    },
    {
     "name": "stdout",
     "output_type": "stream",
     "text": [
      "Disease name 3: Cementoma (periapical cemental dysplasia)\n",
      "Disease 3 description: A radiopaque lesion that may occur in the periapical region of the lower incisors, often asymptomatic and more common in middle-aged women. Can be in different stages with varying radiographic appearances, usually without displacement or resorption of teeth.\n"
     ]
    },
    {
     "data": {
      "image/jpeg": "[encoded data removed]",
      "text/plain": [
       "<IPython.core.display.Image object>"
      ]
     },
     "metadata": {},
     "output_type": "display_data"
    }
   ],
   "source": [
    "query = util.read_query(query_path).replace('\\n', \"\").strip()\n",
    "predictions, image_paths, context, context_indices = respond(query, text_collection_name, caption_collection_name, 3, 1)"
   ]
  },
  {
   "cell_type": "code",
   "execution_count": 8,
   "metadata": {},
   "outputs": [
    {
     "name": "stdout",
     "output_type": "stream",
     "text": [
      "['manual_individual_pages/File3_manual/Page1.txt', 'manual_individual_pages/File3_manual/Page6.txt', 'manual_individual_pages/File4_manual/Page1.txt']\n"
     ]
    }
   ],
   "source": [
    "print(context_indices)"
   ]
  },
  {
   "cell_type": "markdown",
   "metadata": {},
   "source": [
    "# Evaluation"
   ]
  },
  {
   "cell_type": "code",
   "execution_count": 9,
   "metadata": {},
   "outputs": [],
   "source": [
    "def list_respond(\n",
    "        qa_pairs, \n",
    "        prediction_record_path,\n",
    "        text_collection_name, \n",
    "        caption_collection_name, \n",
    "        txt_similarity_topk, \n",
    "        image_similarity_topk, \n",
    "    ):\n",
    "    \n",
    "    truths = []\n",
    "    queries = []\n",
    "    true_images = []\n",
    "    true_txts = []\n",
    "    for pair in qa_pairs:\n",
    "        truths.append(pair['answer'])\n",
    "        queries.append(pair['query'])\n",
    "        true_images.append(pair['image'])\n",
    "        true_txts.append(pair['page'])\n",
    "\n",
    "    print(\"Generating responses.\")\n",
    "    prediction_record = []\n",
    "        \n",
    "    for i, query in tqdm(enumerate(queries)):\n",
    "        cleaned_query = query.replace('\\n', \"\")\n",
    "        cleaned_query = cleaned_query.strip()\n",
    "        symptom_prediction = None\n",
    "        disease_names = []\n",
    "        while disease_names == [] or not symptom_prediction:\n",
    "            symptom_prediction, image_prediction, context, context_indices = respond(\n",
    "                cleaned_query, \n",
    "                text_collection_name, \n",
    "                caption_collection_name, \n",
    "                txt_similarity_topk, \n",
    "                image_similarity_topk, \n",
    "                verbose=0\n",
    "            )\n",
    "            for prediction in symptom_prediction:  \n",
    "                match = re.search(r'Disease name \\d+:\\s*(.*?)\\s*Disease \\d+ description:', prediction, re.DOTALL)\n",
    "                if match:\n",
    "                    disease_names.append(match.group(1).strip())\n",
    "\n",
    "        record = {\n",
    "            'index': i,\n",
    "            'original_prediction': symptom_prediction,\n",
    "            'disease_prediction': disease_names,\n",
    "            'true_disease': truths[i],\n",
    "            'image_prediction': image_prediction,\n",
    "            'true_image': true_images[i],\n",
    "            'context_indices': context_indices,\n",
    "            'true_context': true_txts[i]\n",
    "        }\n",
    "\n",
    "        prediction_record.append(record)\n",
    "\n",
    "    util.save_as_json(prediction_record, prediction_record_path)"
   ]
  },
  {
   "cell_type": "code",
   "execution_count": 10,
   "metadata": {},
   "outputs": [],
   "source": [
    "def disease_recall(record_path, sparse_sim_threshold, score_path):\n",
    "    prediction_record = util.load_json(record_path)\n",
    "    total_correct = 0\n",
    "    new_record = []\n",
    "    for entry in tqdm(prediction_record):\n",
    "        disease_truth_list = [entry['true_disease']]\n",
    "        disease_pred = entry['disease_prediction']\n",
    "        correct, sim = eval.embedding_list_hit(disease_truth_list, disease_pred, sparse_sim_threshold)\n",
    "\n",
    "        entry['disease_correct'] = correct\n",
    "        entry['sparse_similarity'] = sim\n",
    "        new_record.append(entry)\n",
    "        \n",
    "        total_correct += correct\n",
    "    \n",
    "    util.save_as_json(new_record, record_path)\n",
    "\n",
    "    if not os.path.exists(score_path):\n",
    "        result = [{'disease_recall': total_correct/len(prediction_record)}]\n",
    "        util.save_as_json(result, score_path)\n",
    "    else:\n",
    "        result = util.load_json(score_path)\n",
    "        result.append([{'disease_recall': total_correct/len(prediction_record)}])\n",
    "        util.save_as_json(result, score_path)"
   ]
  },
  {
   "cell_type": "code",
   "execution_count": 11,
   "metadata": {},
   "outputs": [],
   "source": [
    "def retrieval_recall(record_path, score_path):\n",
    "    prediction_record = util.load_json(record_path)\n",
    "    total_correct = 0\n",
    "    new_record = []\n",
    "    for entry in tqdm(prediction_record):\n",
    "        retrieval_truth_list = entry['true_context']\n",
    "        retrieved = entry['context_indices']\n",
    "        correct = eval.plain_list_hit(retrieval_truth_list, retrieved)\n",
    "\n",
    "        entry['txt_retrieval_correct'] = correct\n",
    "        new_record.append(entry)\n",
    "        \n",
    "        total_correct += correct\n",
    "    \n",
    "    util.save_as_json(new_record, record_path)\n",
    "\n",
    "    if not os.path.exists(score_path):\n",
    "        result = [{'txt_retrieval_recall': total_correct/len(prediction_record)}]\n",
    "        util.save_as_json(result, score_path)\n",
    "    else:\n",
    "        result = util.load_json(score_path)\n",
    "        result.append([{'txt_retrieval_recall': total_correct/len(prediction_record)}])\n",
    "        util.save_as_json(result, score_path)"
   ]
  },
  {
   "cell_type": "code",
   "execution_count": 12,
   "metadata": {},
   "outputs": [],
   "source": [
    "def image_recall(record_path, score_path):\n",
    "    prediction_record = util.load_json(record_path)\n",
    "    total_correct = 0\n",
    "    new_record = []\n",
    "    for entry in tqdm(prediction_record):\n",
    "        truth_list = entry['true_image']\n",
    "        retrieved = entry['image_prediction']\n",
    "        correct = eval.plain_list_hit(truth_list, retrieved)\n",
    "\n",
    "        entry['img_retrieval_correct'] = correct\n",
    "        new_record.append(entry)\n",
    "        \n",
    "        total_correct += correct\n",
    "    \n",
    "    util.save_as_json(new_record, record_path)\n",
    "\n",
    "    if not os.path.exists(score_path):\n",
    "        result = [{'img_retrieval_recall': total_correct/len(prediction_record)}]\n",
    "        util.save_as_json(result, score_path)\n",
    "    else:\n",
    "        result = util.load_json(score_path)\n",
    "        result.append([{'img_retrieval_recall': total_correct/len(prediction_record)}])\n",
    "        util.save_as_json(result, score_path)"
   ]
  },
  {
   "cell_type": "code",
   "execution_count": 13,
   "metadata": {},
   "outputs": [
    {
     "name": "stdout",
     "output_type": "stream",
     "text": [
      "manual_evaluation_results is cleared!\n",
      "manual_evaluation_results is ready for new content.\n",
      "Evaluation Iteration 0\n",
      "\n",
      "Loaded content from evaluation_dataset/qa_pairs.json\n",
      "Generating responses.\n"
     ]
    },
    {
     "name": "stderr",
     "output_type": "stream",
     "text": [
      "25it [03:51,  9.25s/it]\n"
     ]
    },
    {
     "name": "stdout",
     "output_type": "stream",
     "text": [
      "Saved content to manual_evaluation_results/prediction_record0.json\n",
      "Loaded content from manual_evaluation_results/prediction_record0.json\n"
     ]
    },
    {
     "name": "stderr",
     "output_type": "stream",
     "text": [
      "100%|██████████| 25/25 [00:38<00:00,  1.52s/it]\n"
     ]
    },
    {
     "name": "stdout",
     "output_type": "stream",
     "text": [
      "Saved content to manual_evaluation_results/prediction_record0.json\n",
      "Saved content to manual_evaluation_results/prediction_score0.json\n",
      "Loaded content from manual_evaluation_results/prediction_record0.json\n"
     ]
    },
    {
     "name": "stderr",
     "output_type": "stream",
     "text": [
      "100%|██████████| 25/25 [00:00<00:00, 274496.34it/s]\n"
     ]
    },
    {
     "name": "stdout",
     "output_type": "stream",
     "text": [
      "Saved content to manual_evaluation_results/prediction_record0.json\n",
      "Loaded content from manual_evaluation_results/prediction_score0.json\n",
      "Saved content to manual_evaluation_results/prediction_score0.json\n",
      "Loaded content from manual_evaluation_results/prediction_record0.json\n"
     ]
    },
    {
     "name": "stderr",
     "output_type": "stream",
     "text": [
      "100%|██████████| 25/25 [00:00<00:00, 312076.19it/s]\n"
     ]
    },
    {
     "name": "stdout",
     "output_type": "stream",
     "text": [
      "Saved content to manual_evaluation_results/prediction_record0.json\n",
      "Loaded content from manual_evaluation_results/prediction_score0.json\n",
      "Saved content to manual_evaluation_results/prediction_score0.json\n",
      "Evaluation Iteration 1\n",
      "\n",
      "Loaded content from evaluation_dataset/qa_pairs.json\n",
      "Generating responses.\n"
     ]
    },
    {
     "name": "stderr",
     "output_type": "stream",
     "text": [
      "25it [03:51,  9.27s/it]\n"
     ]
    },
    {
     "name": "stdout",
     "output_type": "stream",
     "text": [
      "Saved content to manual_evaluation_results/prediction_record1.json\n",
      "Loaded content from manual_evaluation_results/prediction_record1.json\n"
     ]
    },
    {
     "name": "stderr",
     "output_type": "stream",
     "text": [
      "100%|██████████| 25/25 [00:09<00:00,  2.60it/s]\n"
     ]
    },
    {
     "name": "stdout",
     "output_type": "stream",
     "text": [
      "Saved content to manual_evaluation_results/prediction_record1.json\n",
      "Saved content to manual_evaluation_results/prediction_score1.json\n",
      "Loaded content from manual_evaluation_results/prediction_record1.json\n"
     ]
    },
    {
     "name": "stderr",
     "output_type": "stream",
     "text": [
      "100%|██████████| 25/25 [00:00<00:00, 315836.14it/s]\n"
     ]
    },
    {
     "name": "stdout",
     "output_type": "stream",
     "text": [
      "Saved content to manual_evaluation_results/prediction_record1.json\n",
      "Loaded content from manual_evaluation_results/prediction_score1.json\n",
      "Saved content to manual_evaluation_results/prediction_score1.json\n",
      "Loaded content from manual_evaluation_results/prediction_record1.json\n"
     ]
    },
    {
     "name": "stderr",
     "output_type": "stream",
     "text": [
      "100%|██████████| 25/25 [00:00<00:00, 183317.48it/s]\n"
     ]
    },
    {
     "name": "stdout",
     "output_type": "stream",
     "text": [
      "Saved content to manual_evaluation_results/prediction_record1.json\n",
      "Loaded content from manual_evaluation_results/prediction_score1.json\n",
      "Saved content to manual_evaluation_results/prediction_score1.json\n",
      "Evaluation Iteration 2\n",
      "\n",
      "Loaded content from evaluation_dataset/qa_pairs.json\n",
      "Generating responses.\n"
     ]
    },
    {
     "name": "stderr",
     "output_type": "stream",
     "text": [
      "25it [04:24, 10.57s/it]\n"
     ]
    },
    {
     "name": "stdout",
     "output_type": "stream",
     "text": [
      "Saved content to manual_evaluation_results/prediction_record2.json\n",
      "Loaded content from manual_evaluation_results/prediction_record2.json\n"
     ]
    },
    {
     "name": "stderr",
     "output_type": "stream",
     "text": [
      "100%|██████████| 25/25 [00:11<00:00,  2.19it/s]\n"
     ]
    },
    {
     "name": "stdout",
     "output_type": "stream",
     "text": [
      "Saved content to manual_evaluation_results/prediction_record2.json\n",
      "Saved content to manual_evaluation_results/prediction_score2.json\n",
      "Loaded content from manual_evaluation_results/prediction_record2.json\n"
     ]
    },
    {
     "name": "stderr",
     "output_type": "stream",
     "text": [
      "100%|██████████| 25/25 [00:00<00:00, 102801.57it/s]\n"
     ]
    },
    {
     "name": "stdout",
     "output_type": "stream",
     "text": [
      "Saved content to manual_evaluation_results/prediction_record2.json\n",
      "Loaded content from manual_evaluation_results/prediction_score2.json\n",
      "Saved content to manual_evaluation_results/prediction_score2.json\n",
      "Loaded content from manual_evaluation_results/prediction_record2.json\n"
     ]
    },
    {
     "name": "stderr",
     "output_type": "stream",
     "text": [
      "100%|██████████| 25/25 [00:00<00:00, 68266.67it/s]\n"
     ]
    },
    {
     "name": "stdout",
     "output_type": "stream",
     "text": [
      "Saved content to manual_evaluation_results/prediction_record2.json\n",
      "Loaded content from manual_evaluation_results/prediction_score2.json\n",
      "Saved content to manual_evaluation_results/prediction_score2.json\n",
      "Evaluation Iteration 3\n",
      "\n",
      "Loaded content from evaluation_dataset/qa_pairs.json\n",
      "Generating responses.\n"
     ]
    },
    {
     "name": "stderr",
     "output_type": "stream",
     "text": [
      "25it [03:53,  9.34s/it]\n"
     ]
    },
    {
     "name": "stdout",
     "output_type": "stream",
     "text": [
      "Saved content to manual_evaluation_results/prediction_record3.json\n",
      "Loaded content from manual_evaluation_results/prediction_record3.json\n"
     ]
    },
    {
     "name": "stderr",
     "output_type": "stream",
     "text": [
      "100%|██████████| 25/25 [00:01<00:00, 15.34it/s]\n"
     ]
    },
    {
     "name": "stdout",
     "output_type": "stream",
     "text": [
      "Saved content to manual_evaluation_results/prediction_record3.json\n",
      "Saved content to manual_evaluation_results/prediction_score3.json\n",
      "Loaded content from manual_evaluation_results/prediction_record3.json\n"
     ]
    },
    {
     "name": "stderr",
     "output_type": "stream",
     "text": [
      "100%|██████████| 25/25 [00:00<00:00, 391259.70it/s]\n"
     ]
    },
    {
     "name": "stdout",
     "output_type": "stream",
     "text": [
      "Saved content to manual_evaluation_results/prediction_record3.json\n",
      "Loaded content from manual_evaluation_results/prediction_score3.json\n",
      "Saved content to manual_evaluation_results/prediction_score3.json\n",
      "Loaded content from manual_evaluation_results/prediction_record3.json\n"
     ]
    },
    {
     "name": "stderr",
     "output_type": "stream",
     "text": [
      "100%|██████████| 25/25 [00:00<00:00, 529583.84it/s]\n"
     ]
    },
    {
     "name": "stdout",
     "output_type": "stream",
     "text": [
      "Saved content to manual_evaluation_results/prediction_record3.json\n",
      "Loaded content from manual_evaluation_results/prediction_score3.json\n",
      "Saved content to manual_evaluation_results/prediction_score3.json\n",
      "Evaluation Iteration 4\n",
      "\n",
      "Loaded content from evaluation_dataset/qa_pairs.json\n",
      "Generating responses.\n"
     ]
    },
    {
     "name": "stderr",
     "output_type": "stream",
     "text": [
      "25it [03:57,  9.49s/it]\n"
     ]
    },
    {
     "name": "stdout",
     "output_type": "stream",
     "text": [
      "Saved content to manual_evaluation_results/prediction_record4.json\n",
      "Loaded content from manual_evaluation_results/prediction_record4.json\n"
     ]
    },
    {
     "name": "stderr",
     "output_type": "stream",
     "text": [
      "100%|██████████| 25/25 [00:05<00:00,  4.27it/s]\n"
     ]
    },
    {
     "name": "stdout",
     "output_type": "stream",
     "text": [
      "Saved content to manual_evaluation_results/prediction_record4.json\n",
      "Saved content to manual_evaluation_results/prediction_score4.json\n",
      "Loaded content from manual_evaluation_results/prediction_record4.json\n"
     ]
    },
    {
     "name": "stderr",
     "output_type": "stream",
     "text": [
      "100%|██████████| 25/25 [00:00<00:00, 411206.27it/s]\n"
     ]
    },
    {
     "name": "stdout",
     "output_type": "stream",
     "text": [
      "Saved content to manual_evaluation_results/prediction_record4.json\n",
      "Loaded content from manual_evaluation_results/prediction_score4.json\n",
      "Saved content to manual_evaluation_results/prediction_score4.json\n",
      "Loaded content from manual_evaluation_results/prediction_record4.json\n"
     ]
    },
    {
     "name": "stderr",
     "output_type": "stream",
     "text": [
      "100%|██████████| 25/25 [00:00<00:00, 506558.45it/s]"
     ]
    },
    {
     "name": "stdout",
     "output_type": "stream",
     "text": [
      "Saved content to manual_evaluation_results/prediction_record4.json\n",
      "Loaded content from manual_evaluation_results/prediction_score4.json\n",
      "Saved content to manual_evaluation_results/prediction_score4.json\n"
     ]
    },
    {
     "name": "stderr",
     "output_type": "stream",
     "text": [
      "\n"
     ]
    }
   ],
   "source": [
    "exp_num = 5\n",
    "util.clear_folder('manual_evaluation_results')\n",
    "for i in range(exp_num):\n",
    "    print(f'Evaluation Iteration {i}\\n')\n",
    "    qa_pairs = util.load_json('evaluation_dataset/qa_pairs.json')\n",
    "\n",
    "    prediction_record_path = f'manual_evaluation_results/prediction_record{i}.json'\n",
    "\n",
    "    list_respond(\n",
    "        qa_pairs, \n",
    "        prediction_record_path,\n",
    "        text_collection_name, \n",
    "        caption_collection_name, \n",
    "        txt_similarity_topk = 3, \n",
    "        image_similarity_topk = 1\n",
    "    )\n",
    "\n",
    "    record_path = f'manual_evaluation_results/prediction_record{i}.json'\n",
    "    score_path = f'manual_evaluation_results/prediction_score{i}.json'\n",
    "    disease_recall(record_path, 0.47, score_path)\n",
    "    retrieval_recall(record_path, score_path)\n",
    "    image_recall(record_path, score_path)\n"
   ]
  },
  {
   "cell_type": "code",
   "execution_count": null,
   "metadata": {},
   "outputs": [],
   "source": []
  },
  {
   "cell_type": "code",
   "execution_count": null,
   "metadata": {},
   "outputs": [],
   "source": []
  }
 ],
 "metadata": {
  "kernelspec": {
   "display_name": "Thesis",
   "language": "python",
   "name": "python3"
  },
  "language_info": {
   "codemirror_mode": {
    "name": "ipython",
    "version": 3
   },
   "file_extension": ".py",
   "mimetype": "text/x-python",
   "name": "python",
   "nbconvert_exporter": "python",
   "pygments_lexer": "ipython3",
   "version": "3.11.11"
  }
 },
 "nbformat": 4,
 "nbformat_minor": 2
}
