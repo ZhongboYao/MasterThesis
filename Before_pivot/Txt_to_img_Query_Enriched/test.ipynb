{
 "cells": [
  {
   "cell_type": "code",
   "execution_count": 1,
   "metadata": {},
   "outputs": [
    {
     "name": "stderr",
     "output_type": "stream",
     "text": [
      "/Users/lucachangretta/opt/anaconda3/envs/Thesis/lib/python3.11/site-packages/tqdm/auto.py:21: TqdmWarning: IProgress not found. Please update jupyter and ipywidgets. See https://ipywidgets.readthedocs.io/en/stable/user_install.html\n",
      "  from .autonotebook import tqdm as notebook_tqdm\n"
     ]
    }
   ],
   "source": [
    "import vector_store as vs\n",
    "import numpy as np\n",
    "import math\n",
    "import vector_store as vs\n",
    "from tqdm import tqdm"
   ]
  },
  {
   "cell_type": "code",
   "execution_count": 2,
   "metadata": {},
   "outputs": [],
   "source": [
    "def sparse_dot_product(values1, indices1, values2, indices2):\n",
    "    i, j = 0, 0\n",
    "    dot = 0.0\n",
    "    while i < len(indices1) and j < len(indices2):\n",
    "        if indices1[i] == indices2[j]:\n",
    "            dot += values1[i] * values2[j]\n",
    "            i += 1\n",
    "            j += 1\n",
    "        elif indices1[i] < indices2[j]:\n",
    "            i += 1\n",
    "        else:\n",
    "            j += 1\n",
    "    return dot\n",
    "\n",
    "def sparse_norm(values):\n",
    "    return math.sqrt(sum(val * val for val in values))\n",
    "\n",
    "def sparse_cosine_similarity(embed1, embed2):\n",
    "    v1 = embed1.values\n",
    "    i1 = embed1.indices\n",
    "    v2 = embed2.values\n",
    "    i2 = embed2.indices\n",
    "    dot = sparse_dot_product(v1, i1, v2, i2)\n",
    "    norm1 = sparse_norm(v1)\n",
    "    norm2 = sparse_norm(v2)\n",
    "    if norm1 == 0 or norm2 == 0:\n",
    "        return 0.0  \n",
    "    return dot / (norm1 * norm2)\n",
    "\n",
    "embed_dict = {}\n",
    "def embedding_list_hit(truth_list, prediction_list, sparse_sim_threshold):\n",
    "    for truth in truth_list:\n",
    "        if truth not in embed_dict:\n",
    "            embed_dict[truth] = vs.sparse_embed(truth)\n",
    "    \n",
    "    for pred in prediction_list:\n",
    "        if pred not in embed_dict:\n",
    "            embed_dict[pred] = vs.sparse_embed(pred)\n",
    "    \n",
    "    truth_embs = [embed_dict[truth] for truth in truth_list]\n",
    "    prediction_embs = [embed_dict[prediction] for prediction in prediction_list]\n",
    "    sim_record = []\n",
    "    for pred_emb in prediction_embs:\n",
    "        for truth_emb in truth_embs:\n",
    "            sparse_similarity = sparse_cosine_similarity(pred_emb, truth_emb)\n",
    "            sim_record.append(sparse_similarity)\n",
    "    if max(sim_record) > sparse_sim_threshold:\n",
    "        return 1, max(sim_record)\n",
    "    else:\n",
    "        return 0, max(sim_record)\n",
    "\n",
    "def plain_list_hit(truth_list, prediction_list):\n",
    "    for entry in prediction_list:\n",
    "        if entry in truth_list:\n",
    "            return 1\n",
    "\n",
    "    return 0"
   ]
  },
  {
   "cell_type": "code",
   "execution_count": null,
   "metadata": {},
   "outputs": [],
   "source": [
    "truth = 'Ameloblastoma'\n",
    "pred = ['Ameloblastoma']\n",
    "a, b = embedding_list_hit(truth, pred, 0.7)"
   ]
  },
  {
   "cell_type": "code",
   "execution_count": 12,
   "metadata": {},
   "outputs": [
    {
     "name": "stdout",
     "output_type": "stream",
     "text": [
      "1 0.9999999999999999\n"
     ]
    }
   ],
   "source": [
    "print(a, b)"
   ]
  },
  {
   "cell_type": "code",
   "execution_count": null,
   "metadata": {},
   "outputs": [],
   "source": []
  }
 ],
 "metadata": {
  "kernelspec": {
   "display_name": "Thesis",
   "language": "python",
   "name": "python3"
  },
  "language_info": {
   "codemirror_mode": {
    "name": "ipython",
    "version": 3
   },
   "file_extension": ".py",
   "mimetype": "text/x-python",
   "name": "python",
   "nbconvert_exporter": "python",
   "pygments_lexer": "ipython3",
   "version": "3.11.11"
  }
 },
 "nbformat": 4,
 "nbformat_minor": 2
}
