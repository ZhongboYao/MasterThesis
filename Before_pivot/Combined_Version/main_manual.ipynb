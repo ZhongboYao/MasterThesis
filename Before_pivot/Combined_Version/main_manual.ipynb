{
 "cells": [
  {
   "cell_type": "code",
   "execution_count": 1,
   "metadata": {},
   "outputs": [
    {
     "name": "stderr",
     "output_type": "stream",
     "text": [
      "/Users/lucachangretta/opt/anaconda3/envs/Thesis/lib/python3.11/site-packages/tqdm/auto.py:21: TqdmWarning: IProgress not found. Please update jupyter and ipywidgets. See https://ipywidgets.readthedocs.io/en/stable/user_install.html\n",
      "  from .autonotebook import tqdm as notebook_tqdm\n"
     ]
    }
   ],
   "source": [
    "import pdf\n",
    "import util\n",
    "import os\n",
    "import chunking\n",
    "import vector_store as vs\n",
    "from tqdm import tqdm\n",
    "from langchain_qdrant import FastEmbedSparse\n",
    "from langchain_openai import OpenAIEmbeddings\n",
    "import api\n",
    "import retrieval\n",
    "import chatbot\n",
    "import re\n",
    "from IPython.display import Image, display\n",
    "import evaluation as eval"
   ]
  },
  {
   "cell_type": "code",
   "execution_count": 2,
   "metadata": {},
   "outputs": [],
   "source": [
    "os.environ[\"TOKENIZERS_PARALLELISM\"] = \"false\"\n",
    "\n",
    "pdf_paths = [\"Dataset/File1_manual.pdf\", \"Dataset/File2_manual.pdf\", \"Dataset/File3_manual.pdf\", \"Dataset/File4_manual.pdf\"]\n",
    "query_path = \"query.txt\"\n",
    "\n",
    "individual_pages_folder = 'manual_individual_pages'\n",
    "all_contents_folder = 'manual_all_contents'\n",
    "\n",
    "text_collection_name = 'manual_texts'\n",
    "caption_collection_name = 'manual_captions'\n",
    "\n",
    "disease_predictions_path = 'manual_evaluation_results/disease_predictions.json'\n",
    "image_predictions_path = 'manual_evaluation_results/image_predictions.json'\n",
    "contexts_path = 'manual_evaluation_results/retrieved_contexts.json'\n",
    "\n",
    "eval_result_path = 'manual_evaluation_results/score.json'\n",
    "eval_record_path = 'manual_evaluation_results/record.json'"
   ]
  },
  {
   "cell_type": "markdown",
   "metadata": {},
   "source": [
    "# Extract Content"
   ]
  },
  {
   "cell_type": "code",
   "execution_count": 3,
   "metadata": {},
   "outputs": [
    {
     "name": "stdout",
     "output_type": "stream",
     "text": [
      "manual_individual_pages is ready for new content.\n",
      "manual_all_contents is cleared!\n",
      "manual_all_contents is ready for new content.\n"
     ]
    },
    {
     "name": "stderr",
     "output_type": "stream",
     "text": [
      "Processing pages of file Dataset/File1_manual.pdf: 100%|██████████| 2/2 [00:00<00:00, 86.61it/s]\n"
     ]
    },
    {
     "name": "stdout",
     "output_type": "stream",
     "text": [
      "Saved content to manual_all_contents/File1_manual/Images_info.json\n"
     ]
    },
    {
     "name": "stderr",
     "output_type": "stream",
     "text": [
      "Processing pages of file Dataset/File2_manual.pdf: 100%|██████████| 16/16 [00:00<00:00, 140.67it/s]\n"
     ]
    },
    {
     "name": "stdout",
     "output_type": "stream",
     "text": [
      "Saved content to manual_all_contents/File2_manual/Images_info.json\n"
     ]
    },
    {
     "name": "stderr",
     "output_type": "stream",
     "text": [
      "Processing pages of file Dataset/File3_manual.pdf: 100%|██████████| 59/59 [00:00<00:00, 631.90it/s]\n"
     ]
    },
    {
     "name": "stdout",
     "output_type": "stream",
     "text": [
      "Saved content to manual_all_contents/File3_manual/Images_info.json\n"
     ]
    },
    {
     "name": "stderr",
     "output_type": "stream",
     "text": [
      "Processing pages of file Dataset/File4_manual.pdf: 100%|██████████| 23/23 [00:00<00:00, 660.22it/s]"
     ]
    },
    {
     "name": "stdout",
     "output_type": "stream",
     "text": [
      "Saved content to manual_all_contents/File4_manual/Images_info.json\n"
     ]
    },
    {
     "name": "stderr",
     "output_type": "stream",
     "text": [
      "\n"
     ]
    }
   ],
   "source": [
    "util.clear_folder(individual_pages_folder)\n",
    "util.clear_folder(all_contents_folder)\n",
    "\n",
    "for pdf_path in pdf_paths:\n",
    "    file = pdf.PDF(pdf_path)\n",
    "    file.extract_pages()\n",
    "    all_texts = file.combine_pages_txt()\n",
    "\n",
    "    # Extract single pages\n",
    "    image_save_dir = f\"{all_contents_folder}/{file.name}/Images\"\n",
    "    os.makedirs(image_save_dir, exist_ok=True)\n",
    "    for page in file.pages:\n",
    "        page_text_save_dir = f\"{individual_pages_folder}/{file.name}\"\n",
    "        os.makedirs(page_text_save_dir, exist_ok=True)\n",
    "        util.save_text_to_file(page.text, f\"{page_text_save_dir}/Page{page.page_num+1}.txt\")\n",
    "        for image in page.images:\n",
    "            image_save_path = f\"{image_save_dir}/Page{image.parent_page_num+1}_Figure{image.index+1}.{image.ext}\"\n",
    "            image.save(image_save_path)\n",
    "            image.path = image_save_path\n",
    "\n",
    "    # Save combined texts\n",
    "    all_texts_save_dir = f\"{all_contents_folder}/{file.name}\"\n",
    "    os.makedirs(all_texts_save_dir , exist_ok=True)\n",
    "    util.save_text_to_file(all_texts, f\"{all_texts_save_dir}/{file.name}.txt\")\n",
    "\n",
    "    # Save all the images info\n",
    "    images_info_save_dir = f\"{all_contents_folder}/{file.name}\"\n",
    "    os.makedirs(images_info_save_dir, exist_ok=True)\n",
    "    file.save_images_info(f\"{images_info_save_dir}/Images_info.json\")\n"
   ]
  },
  {
   "cell_type": "markdown",
   "metadata": {},
   "source": [
    "# Pair Captions"
   ]
  },
  {
   "cell_type": "code",
   "execution_count": 4,
   "metadata": {},
   "outputs": [
    {
     "name": "stdout",
     "output_type": "stream",
     "text": [
      "Saved content to manual_all_contents/File1_manual/Images_info.json\n",
      "Saved content to manual_all_contents/File2_manual/Images_info.json\n",
      "Saved content to manual_all_contents/File3_manual/Images_info.json\n",
      "Saved content to manual_all_contents/File4_manual/Images_info.json\n"
     ]
    }
   ],
   "source": [
    "for pdf_path in pdf_paths:\n",
    "    file = pdf.PDF(pdf_path)\n",
    "    file.images = util.create_class_from_json(pdf.Image, f\"{all_contents_folder}/{file.name}/Images_info.json\")\n",
    "    for image in file.images:\n",
    "        txt_path = f\"{individual_pages_folder}/{file.name}/Page{image.parent_page_num+1}.txt\"\n",
    "        image.pair_caption(txt_path)\n",
    "\n",
    "    images_info_save_dir = f\"{all_contents_folder}/{file.name}\"\n",
    "    os.makedirs(images_info_save_dir, exist_ok=True)\n",
    "    file.save_images_info(f\"{images_info_save_dir}/Images_info.json\")"
   ]
  },
  {
   "cell_type": "markdown",
   "metadata": {},
   "source": [
    "# Generate & Save Embeddings"
   ]
  },
  {
   "cell_type": "code",
   "execution_count": 5,
   "metadata": {},
   "outputs": [
    {
     "name": "stdout",
     "output_type": "stream",
     "text": [
      "Deleted old version collection manual_texts\n",
      "Collection manual_texts initialized.\n",
      "Deleted old version collection manual_captions\n",
      "Collection manual_captions initialized.\n"
     ]
    },
    {
     "name": "stderr",
     "output_type": "stream",
     "text": [
      "Adding text cunks to the vectore store.: 100%|██████████| 100/100 [04:33<00:00,  2.74s/it]\n",
      "Adding captions to the vectore store.: 100%|██████████| 97/97 [04:46<00:00,  2.96s/it]\n"
     ]
    }
   ],
   "source": [
    "chunks = []\n",
    "images = []\n",
    "\n",
    "for pdf_path in pdf_paths:\n",
    "    file = pdf.PDF(pdf_path)\n",
    "    file.images = util.create_class_from_json(pdf.Image, f\"{all_contents_folder}/{file.name}/Images_info.json\")\n",
    "    \n",
    "    splits = chunking.single_page_chunk(f\"{individual_pages_folder}/{file.name}\")\n",
    "    for split in splits:\n",
    "        chunks.append(chunking.Chunk(split))\n",
    "\n",
    "    for image in file.images:\n",
    "        images.append(image)\n",
    "\n",
    "vs.create_collection(text_collection_name, 1536)\n",
    "vs.create_collection(caption_collection_name, 1536)\n",
    "\n",
    "for chunk in tqdm(chunks, desc=\"Adding text cunks to the vectore store.\"):\n",
    "    vs.add_txt(text_collection_name, chunk)\n",
    "for image in tqdm(images, desc=\"Adding captions to the vectore store.\"):\n",
    "    vs.add_image(caption_collection_name, image)"
   ]
  },
  {
   "cell_type": "markdown",
   "metadata": {},
   "source": [
    "# Respond to a Query"
   ]
  },
  {
   "cell_type": "code",
   "execution_count": 3,
   "metadata": {},
   "outputs": [],
   "source": [
    "def respond(\n",
    "        query, \n",
    "        text_collection_name, \n",
    "        caption_collection_name, \n",
    "        txt_similarity_topk, \n",
    "        image_similarity_topk, \n",
    "        cos_filtering_threshold, \n",
    "        cos_filtering_topk,\n",
    "        verbose=1):\n",
    "    \n",
    "    dense_embedding_function = OpenAIEmbeddings(api_key=api.OPENAI_KEY, model=\"text-embedding-3-small\")\n",
    "    sparse_embedding_function = FastEmbedSparse(model_name=\"prithivida/Splade_PP_en_v1\")\n",
    "    \n",
    "    collection_text = vs.get_collection(\n",
    "        text_collection_name, \n",
    "        dense_embedding_function,\n",
    "        sparse_embedding_function\n",
    "    )\n",
    "\n",
    "    collection_caption = vs.get_collection(\n",
    "        caption_collection_name, \n",
    "        dense_embedding_function,\n",
    "        sparse_embedding_function\n",
    "    )\n",
    "\n",
    "    text_retriever = retrieval.Retriever(query, collection_text)\n",
    "    text_retriever.similarity_search(txt_similarity_topk)\n",
    "    text_retriever.rerank('content')\n",
    "    text_retriever.cos_filtering(vs.dense_embed, 'content', cos_filtering_threshold, cos_filtering_topk)\n",
    "\n",
    "    context = \" \"\n",
    "    for filtered_context in text_retriever.filtered_contexts:\n",
    "        context += filtered_context\n",
    "    \n",
    "    response = chatbot.disease_list_prediction(query, context)\n",
    "    pattern = r'(Disease name \\d+:\\s*.*?)(?=Disease name \\d+:|$)'\n",
    "    predictions = re.findall(pattern, response, flags=re.DOTALL)\n",
    "\n",
    "    image_paths = []\n",
    "    for prediction in predictions:\n",
    "        image_retriever = retrieval.Retriever(prediction, collection_caption)\n",
    "        image_retriever.similarity_search(image_similarity_topk)\n",
    "        image_retriever.rerank('caption')\n",
    "        retrieved_image = image_retriever.reranked_docs[0]\n",
    "        image_payload = vs.retrieve_payload(retrieved_image, collection_caption)\n",
    "        image_path = image_payload[\"path\"]\n",
    "        image_paths.append(image_path)\n",
    "        if verbose:\n",
    "            print(prediction)\n",
    "            display(Image(filename=image_path))\n",
    "\n",
    "    return predictions, image_paths, context"
   ]
  },
  {
   "cell_type": "code",
   "execution_count": 7,
   "metadata": {},
   "outputs": [
    {
     "name": "stdout",
     "output_type": "stream",
     "text": [
      "Searching for the closest document.\n",
      "Reranking\n",
      "Filtering\n",
      "Searching for the closest document.\n",
      "Reranking\n",
      "Disease name 1: Ameloblastoma  \n",
      "Disease 1 description: Ameloblastoma is a benign, but locally aggressive odontogenic tumor commonly occurring in the posterior mandible but can also present in the maxilla. It is known for causing expansion, tooth displacement, and sometimes root resorption. Ameloblastomas are typically multilocular, but can present as unilocular radiolucencies as well, especially in older patients.  \n",
      "\n",
      "\n"
     ]
    },
    {
     "data": {
      "image/jpeg": "[encoded data removed]",
      "text/plain": [
       "<IPython.core.display.Image object>"
      ]
     },
     "metadata": {},
     "output_type": "display_data"
    },
    {
     "name": "stdout",
     "output_type": "stream",
     "text": [
      "Searching for the closest document.\n",
      "Reranking\n",
      "Disease name 2: Odontogenic Keratocyst  \n",
      "Disease 2 description: Odontogenic keratocyst is an aggressive cyst characterized by its keratinized epithelial lining, typically occurring in the posterior mandible, but can be found in the maxilla as well. It is often unilocular in its initial phases and exhibits corticated borders. There is a potential for root resorption and tooth displacement, and it often involves the crown of a tooth, as apparent in its association with unerupted or impacted teeth.\n",
      "\n",
      "\n"
     ]
    },
    {
     "data": {
      "image/jpeg": "[encoded data removed]",
      "text/plain": [
       "<IPython.core.display.Image object>"
      ]
     },
     "metadata": {},
     "output_type": "display_data"
    },
    {
     "name": "stdout",
     "output_type": "stream",
     "text": [
      "Searching for the closest document.\n",
      "Reranking\n",
      "Disease name 3: Dentigerous (follicular) cyst  \n",
      "Disease 3 description: A dentigerous cyst is a common odontogenic cyst that arises around the crown of an unerupted or developing tooth, often affecting the mandibular third molars or maxillary canines. It is typically a unilocular radiolucency with corticated borders, and it may cause tooth displacement or impaction. Root resorption can also occur, although less commonly.\n"
     ]
    },
    {
     "data": {
      "image/jpeg": "[encoded data removed]",
      "text/plain": [
       "<IPython.core.display.Image object>"
      ]
     },
     "metadata": {},
     "output_type": "display_data"
    }
   ],
   "source": [
    "query = util.read_query(query_path).replace('\\n', \"\")\n",
    "predictions, image_paths, context = respond(query, text_collection_name, caption_collection_name, 10, 5, 0.8, 3)"
   ]
  },
  {
   "cell_type": "markdown",
   "metadata": {},
   "source": [
    "# Evaluation"
   ]
  },
  {
   "cell_type": "code",
   "execution_count": 4,
   "metadata": {},
   "outputs": [],
   "source": [
    "def evaluation(qa_pairs, \n",
    "               symptom_predictions_path, \n",
    "               image_predictions_path, \n",
    "               contexts_path, \n",
    "               text_collection_name, \n",
    "               caption_collection_name, \n",
    "               txt_similarity_topk, \n",
    "               image_similarity_topk, \n",
    "               cos_filtering_threshold, \n",
    "               cos_filtering_topk,\n",
    "               eval_result_path,\n",
    "               eval_record_path,\n",
    "               sparse_sim_threshold\n",
    "               ):\n",
    "    \n",
    "    truths = []\n",
    "    queries = []\n",
    "    for pair in qa_pairs:\n",
    "        truths.append(pair['answer'])\n",
    "        queries.append(pair['query'])\n",
    "\n",
    "    if not os.path.exists(symptom_predictions_path) or not  os.path.exists(image_predictions_path) or not os.path.exists(contexts_path):\n",
    "        print(\"Generating responses.\")\n",
    "        symptom_predictions = []\n",
    "        image_predictions = []\n",
    "        contexts = []\n",
    "        \n",
    "        for query in tqdm(queries):\n",
    "            cleaned_query = query.replace('\\n', \"\")\n",
    "            cleaned_query = cleaned_query.strip()\n",
    "            symptom_prediction, image_prediction, context = respond(\n",
    "                                                                cleaned_query, \n",
    "                                                                text_collection_name, \n",
    "                                                                caption_collection_name, \n",
    "                                                                txt_similarity_topk, \n",
    "                                                                image_similarity_topk, \n",
    "                                                                cos_filtering_threshold, \n",
    "                                                                cos_filtering_topk,\n",
    "                                                                verbose=0\n",
    "                                                            )      \n",
    "            symptom_predictions.append(symptom_prediction)\n",
    "            image_predictions.append(image_prediction)\n",
    "            contexts.append(context)\n",
    "\n",
    "        util.save_as_json(symptom_predictions, symptom_predictions_path)\n",
    "        util.save_as_json(image_predictions, image_predictions_path)\n",
    "        util.save_as_json(contexts, contexts_path)\n",
    "\n",
    "    else:\n",
    "        symptom_predictions = util.load_json(symptom_predictions_path)\n",
    "        image_predictions = util.load_json(image_predictions_path)\n",
    "\n",
    "    disease_names_predictions = []\n",
    "    for predictions in symptom_predictions:\n",
    "        disease_names = []\n",
    "        for entry in predictions:\n",
    "            first_line = entry.split(\"\\n\")[0]\n",
    "            disease_name = first_line.split(\":\", 1)[1].strip()\n",
    "            disease_names.append(disease_name)\n",
    "        disease_names_predictions.append(disease_names)\n",
    "\n",
    "    evaluator = eval.Evaluator(truths, disease_names_predictions)\n",
    "    evaluator.list_acc(sparse_sim_threshold)\n",
    "    util.save_as_json(evaluator.score, eval_result_path)\n",
    "    util.save_as_json(evaluator.record, eval_record_path)"
   ]
  },
  {
   "cell_type": "code",
   "execution_count": 5,
   "metadata": {},
   "outputs": [
    {
     "name": "stdout",
     "output_type": "stream",
     "text": [
      "Loaded content from evaluation_dataset/qa_pairs.json\n",
      "Generating responses.\n"
     ]
    },
    {
     "name": "stderr",
     "output_type": "stream",
     "text": [
      "  0%|          | 0/25 [00:00<?, ?it/s]"
     ]
    },
    {
     "name": "stdout",
     "output_type": "stream",
     "text": [
      "Searching for the closest document.\n",
      "Reranking\n",
      "Filtering\n",
      "Searching for the closest document.\n",
      "Reranking\n",
      "Searching for the closest document.\n",
      "Reranking\n",
      "Searching for the closest document.\n",
      "Reranking\n"
     ]
    },
    {
     "name": "stderr",
     "output_type": "stream",
     "text": [
      "  4%|▍         | 1/25 [00:25<10:03, 25.14s/it]"
     ]
    },
    {
     "name": "stdout",
     "output_type": "stream",
     "text": [
      "Searching for the closest document.\n",
      "Reranking\n",
      "Filtering\n",
      "Searching for the closest document.\n",
      "Reranking\n",
      "Searching for the closest document.\n",
      "Reranking\n",
      "Searching for the closest document.\n",
      "Reranking\n"
     ]
    },
    {
     "name": "stderr",
     "output_type": "stream",
     "text": [
      "  8%|▊         | 2/25 [00:48<09:18, 24.28s/it]"
     ]
    },
    {
     "name": "stdout",
     "output_type": "stream",
     "text": [
      "Searching for the closest document.\n",
      "Reranking\n",
      "Filtering\n",
      "Searching for the closest document.\n",
      "Reranking\n",
      "Searching for the closest document.\n",
      "Reranking\n",
      "Searching for the closest document.\n",
      "Reranking\n"
     ]
    },
    {
     "name": "stderr",
     "output_type": "stream",
     "text": [
      " 12%|█▏        | 3/25 [01:12<08:46, 23.93s/it]"
     ]
    },
    {
     "name": "stdout",
     "output_type": "stream",
     "text": [
      "Searching for the closest document.\n",
      "Reranking\n",
      "Filtering\n",
      "Searching for the closest document.\n",
      "Reranking\n",
      "Searching for the closest document.\n",
      "Reranking\n",
      "Searching for the closest document.\n",
      "Reranking\n"
     ]
    },
    {
     "name": "stderr",
     "output_type": "stream",
     "text": [
      " 16%|█▌        | 4/25 [01:34<08:10, 23.36s/it]"
     ]
    },
    {
     "name": "stdout",
     "output_type": "stream",
     "text": [
      "Searching for the closest document.\n",
      "Reranking\n",
      "Filtering\n",
      "Searching for the closest document.\n",
      "Reranking\n",
      "Searching for the closest document.\n",
      "Reranking\n",
      "Searching for the closest document.\n",
      "Reranking\n"
     ]
    },
    {
     "name": "stderr",
     "output_type": "stream",
     "text": [
      " 20%|██        | 5/25 [01:58<07:50, 23.53s/it]"
     ]
    },
    {
     "name": "stdout",
     "output_type": "stream",
     "text": [
      "Searching for the closest document.\n",
      "Reranking\n",
      "Filtering\n",
      "Searching for the closest document.\n",
      "Reranking\n",
      "Searching for the closest document.\n",
      "Reranking\n",
      "Searching for the closest document.\n",
      "Reranking\n"
     ]
    },
    {
     "name": "stderr",
     "output_type": "stream",
     "text": [
      " 24%|██▍       | 6/25 [02:17<06:57, 21.98s/it]"
     ]
    },
    {
     "name": "stdout",
     "output_type": "stream",
     "text": [
      "Searching for the closest document.\n",
      "Reranking\n",
      "Filtering\n",
      "Searching for the closest document.\n",
      "Reranking\n",
      "Searching for the closest document.\n",
      "Reranking\n",
      "Searching for the closest document.\n",
      "Reranking\n"
     ]
    },
    {
     "name": "stderr",
     "output_type": "stream",
     "text": [
      " 28%|██▊       | 7/25 [02:38<06:30, 21.68s/it]"
     ]
    },
    {
     "name": "stdout",
     "output_type": "stream",
     "text": [
      "Searching for the closest document.\n",
      "Reranking\n",
      "Filtering\n",
      "Searching for the closest document.\n",
      "Reranking\n",
      "Searching for the closest document.\n",
      "Reranking\n",
      "Searching for the closest document.\n",
      "Reranking\n"
     ]
    },
    {
     "name": "stderr",
     "output_type": "stream",
     "text": [
      " 32%|███▏      | 8/25 [03:01<06:17, 22.18s/it]"
     ]
    },
    {
     "name": "stdout",
     "output_type": "stream",
     "text": [
      "Searching for the closest document.\n",
      "Reranking\n",
      "Filtering\n",
      "Searching for the closest document.\n",
      "Reranking\n",
      "Searching for the closest document.\n",
      "Reranking\n",
      "Searching for the closest document.\n",
      "Reranking\n"
     ]
    },
    {
     "name": "stderr",
     "output_type": "stream",
     "text": [
      " 36%|███▌      | 9/25 [03:25<06:01, 22.62s/it]"
     ]
    },
    {
     "name": "stdout",
     "output_type": "stream",
     "text": [
      "Searching for the closest document.\n",
      "Reranking\n",
      "Filtering\n",
      "Searching for the closest document.\n",
      "Reranking\n",
      "Searching for the closest document.\n",
      "Reranking\n",
      "Searching for the closest document.\n",
      "Reranking\n"
     ]
    },
    {
     "name": "stderr",
     "output_type": "stream",
     "text": [
      " 40%|████      | 10/25 [03:47<05:36, 22.42s/it]"
     ]
    },
    {
     "name": "stdout",
     "output_type": "stream",
     "text": [
      "Searching for the closest document.\n",
      "Reranking\n",
      "Filtering\n",
      "Searching for the closest document.\n",
      "Reranking\n",
      "Searching for the closest document.\n",
      "Reranking\n",
      "Searching for the closest document.\n",
      "Reranking\n"
     ]
    },
    {
     "name": "stderr",
     "output_type": "stream",
     "text": [
      " 44%|████▍     | 11/25 [04:07<05:01, 21.56s/it]"
     ]
    },
    {
     "name": "stdout",
     "output_type": "stream",
     "text": [
      "Searching for the closest document.\n",
      "Reranking\n",
      "Filtering\n",
      "Searching for the closest document.\n",
      "Reranking\n",
      "Searching for the closest document.\n",
      "Reranking\n",
      "Searching for the closest document.\n",
      "Reranking\n"
     ]
    },
    {
     "name": "stderr",
     "output_type": "stream",
     "text": [
      " 48%|████▊     | 12/25 [04:30<04:47, 22.11s/it]"
     ]
    },
    {
     "name": "stdout",
     "output_type": "stream",
     "text": [
      "Searching for the closest document.\n",
      "Reranking\n",
      "Filtering\n",
      "Searching for the closest document.\n",
      "Reranking\n",
      "Searching for the closest document.\n",
      "Reranking\n",
      "Searching for the closest document.\n",
      "Reranking\n"
     ]
    },
    {
     "name": "stderr",
     "output_type": "stream",
     "text": [
      " 52%|█████▏    | 13/25 [04:55<04:36, 23.01s/it]"
     ]
    },
    {
     "name": "stdout",
     "output_type": "stream",
     "text": [
      "Searching for the closest document.\n",
      "Reranking\n",
      "Filtering\n",
      "Searching for the closest document.\n",
      "Reranking\n",
      "Searching for the closest document.\n",
      "Reranking\n",
      "Searching for the closest document.\n",
      "Reranking\n"
     ]
    },
    {
     "name": "stderr",
     "output_type": "stream",
     "text": [
      " 56%|█████▌    | 14/25 [05:17<04:10, 22.80s/it]"
     ]
    },
    {
     "name": "stdout",
     "output_type": "stream",
     "text": [
      "Searching for the closest document.\n",
      "Reranking\n",
      "Filtering\n",
      "Searching for the closest document.\n",
      "Reranking\n",
      "Searching for the closest document.\n",
      "Reranking\n",
      "Searching for the closest document.\n",
      "Reranking\n"
     ]
    },
    {
     "name": "stderr",
     "output_type": "stream",
     "text": [
      " 60%|██████    | 15/25 [05:44<03:58, 23.81s/it]"
     ]
    },
    {
     "name": "stdout",
     "output_type": "stream",
     "text": [
      "Searching for the closest document.\n",
      "Reranking\n",
      "Filtering\n",
      "Searching for the closest document.\n",
      "Reranking\n",
      "Searching for the closest document.\n",
      "Reranking\n",
      "Searching for the closest document.\n",
      "Reranking\n"
     ]
    },
    {
     "name": "stderr",
     "output_type": "stream",
     "text": [
      " 64%|██████▍   | 16/25 [06:09<03:38, 24.28s/it]"
     ]
    },
    {
     "name": "stdout",
     "output_type": "stream",
     "text": [
      "Searching for the closest document.\n",
      "Reranking\n",
      "Filtering\n",
      "Searching for the closest document.\n",
      "Reranking\n",
      "Searching for the closest document.\n",
      "Reranking\n",
      "Searching for the closest document.\n",
      "Reranking\n"
     ]
    },
    {
     "name": "stderr",
     "output_type": "stream",
     "text": [
      " 68%|██████▊   | 17/25 [06:29<03:05, 23.15s/it]"
     ]
    },
    {
     "name": "stdout",
     "output_type": "stream",
     "text": [
      "Searching for the closest document.\n",
      "Reranking\n",
      "Filtering\n",
      "Searching for the closest document.\n",
      "Reranking\n",
      "Searching for the closest document.\n",
      "Reranking\n",
      "Searching for the closest document.\n",
      "Reranking\n"
     ]
    },
    {
     "name": "stderr",
     "output_type": "stream",
     "text": [
      " 72%|███████▏  | 18/25 [06:50<02:36, 22.31s/it]"
     ]
    },
    {
     "name": "stdout",
     "output_type": "stream",
     "text": [
      "Searching for the closest document.\n",
      "Reranking\n",
      "Filtering\n",
      "Searching for the closest document.\n",
      "Reranking\n",
      "Searching for the closest document.\n",
      "Reranking\n",
      "Searching for the closest document.\n",
      "Reranking\n"
     ]
    },
    {
     "name": "stderr",
     "output_type": "stream",
     "text": [
      " 76%|███████▌  | 19/25 [07:15<02:19, 23.18s/it]"
     ]
    },
    {
     "name": "stdout",
     "output_type": "stream",
     "text": [
      "Searching for the closest document.\n",
      "Reranking\n",
      "Filtering\n",
      "Searching for the closest document.\n",
      "Reranking\n",
      "Searching for the closest document.\n",
      "Reranking\n",
      "Searching for the closest document.\n",
      "Reranking\n"
     ]
    },
    {
     "name": "stderr",
     "output_type": "stream",
     "text": [
      " 80%|████████  | 20/25 [07:34<01:50, 22.06s/it]"
     ]
    },
    {
     "name": "stdout",
     "output_type": "stream",
     "text": [
      "Searching for the closest document.\n",
      "Reranking\n",
      "Filtering\n",
      "Searching for the closest document.\n",
      "Reranking\n",
      "Searching for the closest document.\n",
      "Reranking\n",
      "Searching for the closest document.\n",
      "Reranking\n"
     ]
    },
    {
     "name": "stderr",
     "output_type": "stream",
     "text": [
      " 84%|████████▍ | 21/25 [07:58<01:30, 22.65s/it]"
     ]
    },
    {
     "name": "stdout",
     "output_type": "stream",
     "text": [
      "Searching for the closest document.\n",
      "Reranking\n",
      "Filtering\n",
      "Searching for the closest document.\n",
      "Reranking\n",
      "Searching for the closest document.\n",
      "Reranking\n",
      "Searching for the closest document.\n",
      "Reranking\n"
     ]
    },
    {
     "name": "stderr",
     "output_type": "stream",
     "text": [
      " 88%|████████▊ | 22/25 [08:25<01:11, 23.94s/it]"
     ]
    },
    {
     "name": "stdout",
     "output_type": "stream",
     "text": [
      "Searching for the closest document.\n",
      "Reranking\n",
      "Filtering\n",
      "Searching for the closest document.\n",
      "Reranking\n",
      "Searching for the closest document.\n",
      "Reranking\n",
      "Searching for the closest document.\n",
      "Reranking\n"
     ]
    },
    {
     "name": "stderr",
     "output_type": "stream",
     "text": [
      " 92%|█████████▏| 23/25 [08:46<00:46, 23.04s/it]"
     ]
    },
    {
     "name": "stdout",
     "output_type": "stream",
     "text": [
      "Searching for the closest document.\n",
      "Reranking\n",
      "Filtering\n",
      "Searching for the closest document.\n",
      "Reranking\n",
      "Searching for the closest document.\n",
      "Reranking\n",
      "Searching for the closest document.\n",
      "Reranking\n"
     ]
    },
    {
     "name": "stderr",
     "output_type": "stream",
     "text": [
      " 96%|█████████▌| 24/25 [09:14<00:24, 24.51s/it]"
     ]
    },
    {
     "name": "stdout",
     "output_type": "stream",
     "text": [
      "Searching for the closest document.\n",
      "Reranking\n",
      "Filtering\n",
      "Searching for the closest document.\n",
      "Reranking\n",
      "Searching for the closest document.\n",
      "Reranking\n",
      "Searching for the closest document.\n",
      "Reranking\n"
     ]
    },
    {
     "name": "stderr",
     "output_type": "stream",
     "text": [
      "100%|██████████| 25/25 [09:35<00:00, 23.02s/it]\n"
     ]
    },
    {
     "name": "stdout",
     "output_type": "stream",
     "text": [
      "Saved content to manual_evaluation_results/disease_predictions.json\n",
      "Saved content to manual_evaluation_results/image_predictions.json\n",
      "Saved content to manual_evaluation_results/retrieved_contexts.json\n"
     ]
    },
    {
     "name": "stderr",
     "output_type": "stream",
     "text": [
      "25it [00:31,  1.25s/it]"
     ]
    },
    {
     "name": "stdout",
     "output_type": "stream",
     "text": [
      "Saved content to manual_evaluation_results/score.json\n",
      "Saved content to manual_evaluation_results/record.json\n"
     ]
    },
    {
     "name": "stderr",
     "output_type": "stream",
     "text": [
      "\n"
     ]
    }
   ],
   "source": [
    "qa_pairs = util.load_json('evaluation_dataset/qa_pairs.json')\n",
    "\n",
    "evaluation(\n",
    "    qa_pairs, \n",
    "    disease_predictions_path, \n",
    "    image_predictions_path, \n",
    "    contexts_path, \n",
    "    text_collection_name, \n",
    "    caption_collection_name, \n",
    "    txt_similarity_topk = 10, \n",
    "    image_similarity_topk = 3, \n",
    "    cos_filtering_threshold = 0.8, \n",
    "    cos_filtering_topk = 5,\n",
    "    eval_result_path = eval_result_path,\n",
    "    eval_record_path = eval_record_path,\n",
    "    sparse_sim_threshold = 0.7\n",
    "    )"
   ]
  },
  {
   "cell_type": "code",
   "execution_count": null,
   "metadata": {},
   "outputs": [],
   "source": []
  }
 ],
 "metadata": {
  "kernelspec": {
   "display_name": "Thesis",
   "language": "python",
   "name": "python3"
  },
  "language_info": {
   "codemirror_mode": {
    "name": "ipython",
    "version": 3
   },
   "file_extension": ".py",
   "mimetype": "text/x-python",
   "name": "python",
   "nbconvert_exporter": "python",
   "pygments_lexer": "ipython3",
   "version": "3.11.11"
  }
 },
 "nbformat": 4,
 "nbformat_minor": 2
}
