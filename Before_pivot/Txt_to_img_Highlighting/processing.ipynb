{
 "cells": [
  {
   "cell_type": "code",
   "execution_count": null,
   "metadata": {},
   "outputs": [],
   "source": [
    "import pandas as pd\n",
    "import json\n",
    "import util"
   ]
  },
  {
   "cell_type": "markdown",
   "metadata": {},
   "source": [
    "# Convert evaluation dataset to quries"
   ]
  },
  {
   "cell_type": "code",
   "execution_count": 43,
   "metadata": {},
   "outputs": [],
   "source": [
    "eval = pd.read_csv('evaluation_dataset/validation cases.csv')\n",
    "eval.rename(columns={\"Unnamed: 0\": \"Questions\"}, inplace=True)\n",
    "eval.set_index(\"Questions\", inplace=True)"
   ]
  },
  {
   "cell_type": "code",
   "execution_count": 51,
   "metadata": {},
   "outputs": [
    {
     "name": "stdout",
     "output_type": "stream",
     "text": [
      "Saved content to evaluation_dataset/extracted_content.json\n"
     ]
    }
   ],
   "source": [
    "content = []\n",
    "for col in eval.columns:\n",
    "    attributes = {}\n",
    "    attributes['Gender'] = eval[col].loc['What is the sex of your patient?']\n",
    "    attributes['Age'] = eval[col].loc['What is the age of your patient?']\n",
    "    attributes['Ethnicity'] = eval[col].loc['What is the race of your patient? ']\n",
    "    attributes['Pain'] = eval[col].loc['Lesion commonly seen in clinical practice????']\n",
    "    attributes['Jaw'] = eval[col].loc['Which jaw is affected by the lesion?']\n",
    "    attributes['Lesion region'] = eval[col].loc['Where is the lesion centered anatomically?']\n",
    "    attributes['Prevalence'] = eval[col].loc['Lesion commonly seen in clinical practice?']\n",
    "    attributes['Size'] = eval[col].loc['What is the maximum size of the lesion?']\n",
    "    attributes['Origin'] = eval[col].loc['What is the anatomical origin of the lesion?']\n",
    "    attributes['Borders'] = eval[col].loc['Specify the characteristics of the borders of the lesion']\n",
    "    attributes['Loculation'] = eval[col].loc['The loculation of the lesion is']\n",
    "    attributes['The radiographic appearance of the lesion'] = eval[col].loc['What is the radiographic appearance of the contents of the lesions?']\n",
    "    attributes['Relationship to the surrounding teeth'] = eval[col].loc[' How does the lesion relate to the surrounding teeth?']\n",
    "    attributes['Teeth involvement'] = eval[col].loc['Does the lesion include one or more teeth?']\n",
    "    attributes['Number of lesions'] = eval[col].loc['How many lesions are present?']\n",
    "    attributes['Expansion'] = eval[col].loc['Is there expansion of the bony cortex?']\n",
    "    attributes['Root resorption'] = eval[col].loc['Does the lesion result in root resorption?']\n",
    "    attributes['Tooth displacement or impaction'] = eval[col].loc['Are there any signs of tooth displacement or impaction?']\n",
    "    attributes['Dignoisis'] = eval[col].loc['Clinical Diagnosis']\n",
    "    content.append(attributes)\n",
    "util.save_as_json(content, 'evaluation_dataset/extracted_content.json')"
   ]
  },
  {
   "cell_type": "markdown",
   "metadata": {},
   "source": [
    "# QA Pairs generation"
   ]
  },
  {
   "cell_type": "code",
   "execution_count": 54,
   "metadata": {},
   "outputs": [
    {
     "name": "stdout",
     "output_type": "stream",
     "text": [
      "Loaded content from evaluation_dataset/extracted_content.json\n",
      "Saved content to evaluation_dataset/qa_pairs.json\n"
     ]
    }
   ],
   "source": [
    "cases = util.load_json('evaluation_dataset/extracted_content.json')\n",
    "qa_pairs = []\n",
    "for case in cases:\n",
    "    qa_pair = {}\n",
    "    qa_pair['query'] = f\"\"\"\n",
    "    - Gender: {case['Gender']}\n",
    "    - Age: {case['Age']}\n",
    "    - Ethnicity: {case['Ethnicity']}\n",
    "    - Pain: The patient {case['Pain']} pain.\n",
    "    - Radiographic features:\n",
    "    \n",
    "    - Jaw: {case['Jaw']}\n",
    "    - Lesion region: {case['Lesion region']}\n",
    "    - Prevalence: This lesion is {case['Prevalence']} frequently observed in clinical practice.\n",
    "    - Size: {case['Size']}\n",
    "    - Origin: {case['Origin']}\n",
    "    - Borders: {case['Borders']}\n",
    "    - Loculation: {case['Loculation']}\n",
    "    - The radiographic appearance of the lesion: {case['The radiographic appearance of the lesion']}\n",
    "    - Relationship to the surrounding teeth: {case['Relationship to the surrounding teeth']}\n",
    "    - Teeth involvement: The lesion {case['Teeth involvement']} one or more teeth.\n",
    "    - Number of lesions: {case['Number of lesions']}\n",
    "    - Expansion: The lesion {case['Expansion']} to the bony cortex.\n",
    "    - Root resorption: The lesion {case['Root resorption']} in root resorption.\n",
    "    - Tooth displacement or impaction: There {case['Tooth displacement or impaction']} signs of tooth displacement or impaction.\n",
    "    \"\"\"\n",
    "    qa_pair['answer'] = case['Dignoisis']\n",
    "    qa_pairs.append(qa_pair)\n",
    "\n",
    "util.save_as_json(qa_pairs, 'evaluation_dataset/qa_pairs.json')"
   ]
  },
  {
   "cell_type": "markdown",
   "metadata": {},
   "source": [
    "# Generation of Caption Evaluation Dataset"
   ]
  },
  {
   "cell_type": "code",
   "execution_count": 13,
   "metadata": {},
   "outputs": [
    {
     "name": "stdout",
     "output_type": "stream",
     "text": [
      "Loaded content from manual_all_contents/File2_manual/Images_info.json\n",
      "Loaded content from manual_all_contents/File3_manual/Images_info.json\n",
      "Loaded content from manual_all_contents/File4_manual/Images_info.json\n",
      "Saved content to evaluation_dataset/caption_evaluation.json\n"
     ]
    }
   ],
   "source": [
    "image_caption_pair = []\n",
    "for i in range(2, 5):\n",
    "    paired_captions = util.load_json(f'manual_all_contents/File{i}_manual/Images_info.json')\n",
    "    for paired_caption in paired_captions:\n",
    "        image_caption_pair.append({'image_path': paired_caption['path'], 'caption': paired_caption['caption']})\n",
    "util.save_as_json(image_caption_pair, 'evaluation_dataset/caption_evaluation.json')"
   ]
  },
  {
   "cell_type": "markdown",
   "metadata": {},
   "source": [
    "After manually modifying the first caption."
   ]
  },
  {
   "cell_type": "code",
   "execution_count": 14,
   "metadata": {},
   "outputs": [
    {
     "name": "stdout",
     "output_type": "stream",
     "text": [
      "Loaded content from evaluation_dataset/caption_evaluation.json\n",
      "Saved content to evaluation_dataset/caption_evaluation.json\n"
     ]
    }
   ],
   "source": [
    "image_caption_pairs = util.load_json('evaluation_dataset/caption_evaluation.json')\n",
    "new_image_caption_pairs = []\n",
    "for pair in image_caption_pairs:\n",
    "    new_caption = pair['caption'].split('\\n')[0]\n",
    "    new_image_caption_pairs.append({'image_path': pair['image_path'], 'caption': new_caption})\n",
    "util.save_as_json(new_image_caption_pairs, 'evaluation_dataset/caption_evaluation.json')"
   ]
  }
 ],
 "metadata": {
  "kernelspec": {
   "display_name": "Thesis",
   "language": "python",
   "name": "python3"
  },
  "language_info": {
   "codemirror_mode": {
    "name": "ipython",
    "version": 3
   },
   "file_extension": ".py",
   "mimetype": "text/x-python",
   "name": "python",
   "nbconvert_exporter": "python",
   "pygments_lexer": "ipython3",
   "version": "3.11.11"
  }
 },
 "nbformat": 4,
 "nbformat_minor": 2
}
