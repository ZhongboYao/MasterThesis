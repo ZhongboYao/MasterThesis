{
 "cells": [
  {
   "cell_type": "code",
   "execution_count": 6,
   "metadata": {},
   "outputs": [],
   "source": [
    "import pdfplumber\n",
    "import os\n",
    "from PIL import Image\n",
    "import shutil\n",
    "import fitz\n",
    "from sentence_transformers import SentenceTransformer, models, util\n",
    "import numpy as np\n",
    "from sklearn.metrics.pairwise import cosine_similarity\n",
    "from glob import glob\n",
    "from llama_index.core.node_parser import SentenceSplitter\n",
    "import torch\n",
    "from torchvision import transforms\n",
    "import chromadb\n",
    "import uuid\n",
    "from chromadb.config import Settings\n",
    "import chromadb\n",
    "from sentence_transformers import SentenceTransformer\n",
    "from langchain_chroma import Chroma\n",
    "\n",
    "from langchain_community.vectorstores import Chroma\n",
    "from langchain_openai import OpenAIEmbeddings\n",
    "from langchain import PromptTemplate\n",
    "from langchain.chains import RetrievalQA\n",
    "from langchain_openai import ChatOpenAI\n",
    "from IPython.display import display\n",
    "import openai\n",
    "import base64\n",
    "from openai import OpenAI\n",
    "from langchain import PromptTemplate\n",
    "from llama_index.core.evaluation.multi_modal import MultiModalRelevancyEvaluator, MultiModalFaithfulnessEvaluator\n",
    "from llama_index.multi_modal_llms.openai import OpenAIMultiModal\n",
    "from IPython.display import Image, display\n",
    "from qdrant_client import QdrantClient, models\n",
    "from langchain_qdrant import QdrantVectorStore\n",
    "from sklearn.feature_extraction.text import TfidfVectorizer\n",
    "from langchain_qdrant import FastEmbedSparse, RetrievalMode\n",
    "from langchain_qdrant import QdrantVectorStore, RetrievalMode\n",
    "from langchain_openai import OpenAIEmbeddings\n",
    "from IPython.display import Image, display\n",
    "import numpy as np\n",
    "\n",
    "from langchain.embeddings import HuggingFaceEmbeddings\n"
   ]
  },
  {
   "cell_type": "code",
   "execution_count": 2,
   "metadata": {},
   "outputs": [],
   "source": [
    "text_collection_name = 'CLIP_texts'\n",
    "image_collection_name = 'CLIP_images'"
   ]
  },
  {
   "cell_type": "markdown",
   "metadata": {},
   "source": [
    "# Clients Preparation"
   ]
  },
  {
   "cell_type": "code",
   "execution_count": null,
   "metadata": {},
   "outputs": [],
   "source": [
    "os.environ[\"OPENAI_API_KEY\"] = None\n",
    "\n",
    "openai_client = OpenAI()\n",
    "\n",
    "qdrant_client = QdrantClient()\n"
   ]
  },
  {
   "cell_type": "code",
   "execution_count": null,
   "metadata": {},
   "outputs": [],
   "source": [
    "sparse_embedding_function = FastEmbedSparse(model_name=\"prithivida/Splade_PP_en_v1\")\n",
    "dense_embedding_function = HuggingFaceEmbeddings(\n",
    "    model_name=\"sentence-transformers/clip-ViT-B-32\" \n",
    ")\n",
    "\n",
    "qdrant_text = QdrantVectorStore.from_existing_collection(\n",
    "    embedding=dense_embedding_function,\n",
    "    sparse_embedding=sparse_embedding_function,\n",
    "    collection_name=text_collection_name,\n",
    "    url=None,\n",
    "    api_key=None,\n",
    "    retrieval_mode=RetrievalMode.HYBRID,\n",
    "    sparse_vector_name=\"sparse\"\n",
    ")\n",
    "\n",
    "qdrant_image = QdrantVectorStore.from_existing_collection(\n",
    "    embedding=dense_embedding_function,\n",
    "    sparse_embedding=sparse_embedding_function,\n",
    "    collection_name=image_collection_name,\n",
    "    url=None,\n",
    "    api_key=None,\n",
    "    retrieval_mode=RetrievalMode.HYBRID,\n",
    "    sparse_vector_name=\"sparse\"\n",
    ")"
   ]
  },
  {
   "cell_type": "code",
   "execution_count": 12,
   "metadata": {},
   "outputs": [
    {
     "name": "stdout",
     "output_type": "stream",
     "text": [
      "\n",
      "Context---------------------------\n",
      "Asymptomatic lesion which usually is located at the periapical region of lower incisors. \n",
      "It is most common in middle-aged women (mostly of black origin). Single or multiple \n",
      "lesions.\n",
      "\n",
      "Symptom--------------------------------------\n",
      "The information provided does not specify a disease name or stage number. Furthermore, the text does not provide a detailed explanation of a condition or disease.\n"
     ]
    },
    {
     "data": {
      "image/jpeg": "[encoded data removed]",
      "text/plain": [
       "<IPython.core.display.Image object>"
      ]
     },
     "metadata": {},
     "output_type": "display_data"
    }
   ],
   "source": [
    "query = \"Asymptomatic lesion which usually is located at the periapical region of lower incisors. It is most common in middle-aged women (mostly of black origin). Single or multiple lesions.  Adjacent  teeth:  usually  with  vital  pulp,  without  displacement  or  resorption. The size of the lesion does not exceed 1,5 cm of diameter.\"\n",
    "found_texts = qdrant_text.similarity_search(query, k=1)\n",
    "\n",
    "context = \"\"\n",
    "for i in range(len(found_texts)):\n",
    "    document = found_texts[i] \n",
    "    point_id = document.metadata[\"_id\"]\n",
    "    point = qdrant_client.retrieve(\n",
    "        collection_name=text_collection_name,\n",
    "        ids=[point_id],\n",
    "        with_payload=True,  \n",
    "        with_vectors=False  \n",
    "    )\n",
    "\n",
    "    payload = point[0].payload\n",
    "    context = payload.get(\"chunk_text\", \"\")\n",
    "    print('\\nContext---------------------------')\n",
    "    print(context)\n",
    "\n",
    "    messages_symptom = [\n",
    "        {\n",
    "            \"role\": \"system\",\n",
    "            \"content\": (\n",
    "                \"You are a helpful assistant who answers the user's question based only on the relevant portions \"\n",
    "                \"of the provided context. Do not analyze or mention information that is not directly related \"\n",
    "                \"to the user's question. Provide only the most likely disease name with its stage number, and a detailed explanation according to the given context.\"\n",
    "                \"Do not go beyond the provided context, answer within 77 tokens.\"\n",
    "            )\n",
    "        },\n",
    "        {\n",
    "            \"role\": \"user\",\n",
    "            \"content\": (\n",
    "                f\"The user's question is: {query}\\n\\n\"\n",
    "                \"Below is some background information, only partial information is related. Only use it if it helps directly answer the question:\\n\\n\"\n",
    "                f\"{context}\\n\\n\"\n",
    "            )\n",
    "        }\n",
    "    ]\n",
    "    \n",
    "\n",
    "    response_symptom = openai_client.chat.completions.create(\n",
    "        model=\"gpt-4\",\n",
    "        messages=messages_symptom,\n",
    "        max_tokens=300,\n",
    "    )\n",
    "\n",
    "    symptom = response_symptom.choices[0].message.content\n",
    "    print('\\nSymptom--------------------------------------')\n",
    "    print(symptom)\n",
    "\n",
    "    found_images = qdrant_image.similarity_search(symptom, k=1)\n",
    "\n",
    "    document = found_images[0] \n",
    "    point_id = document.metadata[\"_id\"]\n",
    "    point = qdrant_client.retrieve(\n",
    "        collection_name=image_collection_name,\n",
    "        ids=[point_id],\n",
    "        with_payload=True,  \n",
    "        with_vectors=False  \n",
    "    )\n",
    "\n",
    "    payload = point[0].payload\n",
    "    image_path = payload.get('image_path')\n",
    "    display(Image(filename=image_path))"
   ]
  },
  {
   "cell_type": "code",
   "execution_count": null,
   "metadata": {},
   "outputs": [],
   "source": []
  }
 ],
 "metadata": {
  "kernelspec": {
   "display_name": "venv",
   "language": "python",
   "name": "python3"
  },
  "language_info": {
   "codemirror_mode": {
    "name": "ipython",
    "version": 3
   },
   "file_extension": ".py",
   "mimetype": "text/x-python",
   "name": "python",
   "nbconvert_exporter": "python",
   "pygments_lexer": "ipython3",
   "version": "3.9.13"
  }
 },
 "nbformat": 4,
 "nbformat_minor": 2
}
