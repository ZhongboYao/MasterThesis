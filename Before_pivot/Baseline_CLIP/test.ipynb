{
 "cells": [
  {
   "cell_type": "code",
   "execution_count": 3,
   "metadata": {},
   "outputs": [],
   "source": [
    "import argparse\n",
    "import util\n",
    "import os\n",
    "\n",
    "import pdf_extraction as pdf\n",
    "import vector_store as vs\n",
    "\n",
    "from langchain_qdrant import FastEmbedSparse\n",
    "from langchain_openai import OpenAIEmbeddings\n",
    "from openai import OpenAI\n",
    "import chunking\n",
    "import PyPDF2"
   ]
  },
  {
   "cell_type": "code",
   "execution_count": 13,
   "metadata": {},
   "outputs": [
    {
     "name": "stdout",
     "output_type": "stream",
     "text": [
      "Loaded content from robust_extracted_content/File2/File2_imagesInfo.json\n",
      "Loaded content from robust_extracted_content/File3/File3_imagesInfo.json\n",
      "Loaded content from robust_extracted_content/File4/File4_imagesInfo.json\n",
      "Saved content to evaluation_dataset/evaluation_data.json\n"
     ]
    }
   ],
   "source": [
    "files = ['robust_extracted_content/File2/File2_imagesInfo.json', 'robust_extracted_content/File3/File3_imagesInfo.json', 'robust_extracted_content/File4/File4_imagesInfo.json']\n",
    "items = []\n",
    "for file in files:\n",
    "    pairs = util.load_json(file)\n",
    "\n",
    "    for pair in pairs:\n",
    "        items.append({\n",
    "            'image_path': pair['image_path'],\n",
    "            'caption_truth': pair['caption']\n",
    "        })\n",
    "util.save_as_json(items, 'evaluation_dataset/evaluation_data.json')"
   ]
  },
  {
   "cell_type": "code",
   "execution_count": 11,
   "metadata": {},
   "outputs": [],
   "source": [
    "from pdf_extraction_tool.scripts.layout_detection import layout_detect\n",
    "\n",
    "results = layout_detect('robust_single_pages/File1', 'output')\n",
    "\n"
   ]
  },
  {
   "cell_type": "code",
   "execution_count": 24,
   "metadata": {},
   "outputs": [
    {
     "name": "stdout",
     "output_type": "stream",
     "text": [
      "{0: 'title', 1: 'plain text', 2: 'abandon', 3: 'figure', 4: 'figure_caption', 5: 'table', 6: 'table_caption', 7: 'table_footnote', 8: 'isolate_formula', 9: 'formula_caption'}\n"
     ]
    }
   ],
   "source": [
    "print(results[0].names)"
   ]
  },
  {
   "cell_type": "code",
   "execution_count": null,
   "metadata": {},
   "outputs": [],
   "source": []
  }
 ],
 "metadata": {
  "kernelspec": {
   "display_name": "Thesis",
   "language": "python",
   "name": "python3"
  },
  "language_info": {
   "codemirror_mode": {
    "name": "ipython",
    "version": 3
   },
   "file_extension": ".py",
   "mimetype": "text/x-python",
   "name": "python",
   "nbconvert_exporter": "python",
   "pygments_lexer": "ipython3",
   "version": "3.11.11"
  }
 },
 "nbformat": 4,
 "nbformat_minor": 2
}
